{
 "cells": [
  {
   "cell_type": "markdown",
   "metadata": {},
   "source": [
    "# Character Language Modelling with LSTM"
   ]
  },
  {
   "cell_type": "code",
   "execution_count": 76,
   "metadata": {},
   "outputs": [
    {
     "name": "stdout",
     "output_type": "stream",
     "text": [
      "env: CUDA_DEVICE_ORDER=PCI_BUS_ID\n",
      "env: CUDA_VISIBLE_DEVICES=0\n"
     ]
    }
   ],
   "source": [
    "import sys\n",
    "import io\n",
    "import numpy as np\n",
    "from keras.utils import np_utils\n",
    "from keras.models import Sequential\n",
    "from keras.callbacks import ModelCheckpoint\n",
    "from keras.layers import Dense, Dropout, LSTM\n",
    "from keras.layers.embeddings import Embedding\n",
    "%env CUDA_DEVICE_ORDER=PCI_BUS_ID\n",
    "%env CUDA_VISIBLE_DEVICES=0"
   ]
  },
  {
   "cell_type": "code",
   "execution_count": 77,
   "metadata": {},
   "outputs": [],
   "source": [
    "# raw_text = open(\"data/wonderland.txt\", \"r\", encoding=\"utf-8\").read()\n",
    "# raw_text = raw_text.lower()\n",
    "# print raw_text[:200]\n",
    "# import io\n",
    "# with io.open(\"my_utf8_file.txt\", \"r\", encoding=\"utf-8\") as my_file:\n",
    "#      my_unicode_string = my_file.read() \n",
    "with io.open(\"data/wonderland.txt\", \"r\", encoding=\"utf-8\") as my_file:\n",
    "     raw_text = my_file.read()      "
   ]
  },
  {
   "cell_type": "code",
   "execution_count": 78,
   "metadata": {},
   "outputs": [
    {
     "name": "stdout",
     "output_type": "stream",
     "text": [
      "chapter i. down the rabbit-hole\n",
      "\n",
      "alice was beginning to get very tired of sitting by her sister on the\n",
      "bank, and of having nothing to do: once or twice she had peeped into the\n",
      "book her sister was read\n"
     ]
    }
   ],
   "source": [
    "raw_text = raw_text.lower()\n",
    "print raw_text[:200]"
   ]
  },
  {
   "cell_type": "code",
   "execution_count": 79,
   "metadata": {},
   "outputs": [
    {
     "name": "stdout",
     "output_type": "stream",
     "text": [
      "Total Characters: 144348\n",
      "Total Vocab: 45\n"
     ]
    }
   ],
   "source": [
    "chars = sorted(list(set(raw_text)))\n",
    "n_chars = len(raw_text)\n",
    "n_vocab = len(chars)\n",
    "print \"Total Characters:\", n_chars\n",
    "print \"Total Vocab:\", n_vocab\n",
    "char_to_int = dict((c, i) for i, c in enumerate(chars))\n",
    "int_to_char = dict((i, c) for i, c in enumerate(chars))"
   ]
  },
  {
   "cell_type": "code",
   "execution_count": 80,
   "metadata": {},
   "outputs": [
    {
     "data": {
      "text/plain": [
       "u'chapter i. down the rabbit-hole\\n\\nalice was beginning to get very tired of sitting by her sister on the\\nbank, and of having nothing to do: once or twice she had peeped into the\\nbook her sister was reading, but it had no pictures or conversations in\\nit, \\u2018and what is the use of a book,\\u2019 thought alice \\u2018without pictures or\\nconversations?\\u2019\\n\\nso she was considering in her own mind (as well as she could, for the\\nhot day made her feel very sleepy and stupid), whether the pleasure\\nof making a daisy-chain would be worth the trouble of getting up and\\npicking the daisies, when suddenly a white rabbit with pink eyes ran\\nclose by her.'"
      ]
     },
     "execution_count": 80,
     "metadata": {},
     "output_type": "execute_result"
    }
   ],
   "source": [
    "from nltk import tokenize\n",
    "sentences = tokenize.sent_tokenize(raw_text)\n",
    "lengths = []\n",
    "for i in xrange(len(sentences)):\n",
    "    lengths.append(len(sentences[i]))\n",
    "lengths = np.array(lengths)\n",
    "sentences[0]"
   ]
  },
  {
   "cell_type": "code",
   "execution_count": 81,
   "metadata": {},
   "outputs": [
    {
     "name": "stdout",
     "output_type": "stream",
     "text": [
      "Total patterns: 144248\n"
     ]
    }
   ],
   "source": [
    "seq_length = 100\n",
    "dataX = []\n",
    "dataY = []\n",
    "for i in xrange(0, n_chars - seq_length):\n",
    "    seq_in  = raw_text[i: i+seq_length]\n",
    "    seq_out = raw_text[i+seq_length]\n",
    "    dataX.append([char_to_int[char] for char in seq_in])\n",
    "    dataY.append(char_to_int[seq_out])\n",
    "n_patterns = len(dataX)\n",
    "print 'Total patterns:', n_patterns"
   ]
  },
  {
   "cell_type": "code",
   "execution_count": 82,
   "metadata": {
    "collapsed": true
   },
   "outputs": [],
   "source": [
    "# Reshape dataX to size of [samples, time steps, features] and scale it to 0-1\n",
    "# Represent dataY as one hot encoding\n",
    "X_train = np.reshape(dataX, (n_patterns, seq_length, 1))/float(n_vocab)\n",
    "Y_train = np_utils.to_categorical(dataY)"
   ]
  },
  {
   "cell_type": "markdown",
   "metadata": {},
   "source": [
    "# Small LSTM Network with Constant Characters"
   ]
  },
  {
   "cell_type": "code",
   "execution_count": 83,
   "metadata": {},
   "outputs": [
    {
     "name": "stdout",
     "output_type": "stream",
     "text": [
      "_________________________________________________________________\n",
      "Layer (type)                 Output Shape              Param #   \n",
      "=================================================================\n",
      "lstm_4 (LSTM)                (None, 256)               264192    \n",
      "_________________________________________________________________\n",
      "dropout_4 (Dropout)          (None, 256)               0         \n",
      "_________________________________________________________________\n",
      "dense_4 (Dense)              (None, 45)                11565     \n",
      "=================================================================\n",
      "Total params: 275,757\n",
      "Trainable params: 275,757\n",
      "Non-trainable params: 0\n",
      "_________________________________________________________________\n",
      "None\n"
     ]
    }
   ],
   "source": [
    "model = Sequential()\n",
    "model.add(LSTM(256, input_shape=(X_train.shape[1], X_train.shape[2])))\n",
    "model.add(Dropout(0.2))\n",
    "model.add(Dense(Y_train.shape[1], activation='softmax'))\n",
    "# model.compile(loss='binary_crossentropy', optimizer=model_optimizer, metrics=['accuracy', 'cosine'])\n",
    "model.compile(loss='categorical_crossentropy', optimizer='adam', metrics=['accuracy'])\n",
    "print model.summary()"
   ]
  },
  {
   "cell_type": "markdown",
   "metadata": {},
   "source": [
    "# Small constant characters with embedding vector in LSTM Network"
   ]
  },
  {
   "cell_type": "code",
   "execution_count": 100,
   "metadata": {},
   "outputs": [
    {
     "name": "stdout",
     "output_type": "stream",
     "text": [
      "_________________________________________________________________\n",
      "Layer (type)                 Output Shape              Param #   \n",
      "=================================================================\n",
      "embedding_1 (Embedding)      (None, 100, 32)           1440      \n",
      "_________________________________________________________________\n",
      "lstm_5 (LSTM)                (None, 256)               295936    \n",
      "_________________________________________________________________\n",
      "dropout_5 (Dropout)          (None, 256)               0         \n",
      "_________________________________________________________________\n",
      "dense_5 (Dense)              (None, 45)                11565     \n",
      "=================================================================\n",
      "Total params: 308,941\n",
      "Trainable params: 308,941\n",
      "Non-trainable params: 0\n",
      "_________________________________________________________________\n",
      "None\n"
     ]
    }
   ],
   "source": [
    "embedding_vector_length = 32\n",
    "model1 = Sequential()\n",
    "model1.add(Embedding(n_vocab, embedding_vector_length, input_length=seq_length))\n",
    "model1.add(LSTM(256))\n",
    "model1.add(Dropout(0.2))\n",
    "model1.add(Dense(Y_train.shape[1], activation='softmax'))\n",
    "model1.compile(loss='categorical_crossentropy', optimizer='adam')\n",
    "print model1.summary()"
   ]
  },
  {
   "cell_type": "markdown",
   "metadata": {},
   "source": [
    "# Add more LSTM Network layer with constant characters"
   ]
  },
  {
   "cell_type": "code",
   "execution_count": 101,
   "metadata": {},
   "outputs": [
    {
     "name": "stdout",
     "output_type": "stream",
     "text": [
      "_________________________________________________________________\n",
      "Layer (type)                 Output Shape              Param #   \n",
      "=================================================================\n",
      "lstm_6 (LSTM)                (None, 100, 256)          264192    \n",
      "_________________________________________________________________\n",
      "dropout_6 (Dropout)          (None, 100, 256)          0         \n",
      "_________________________________________________________________\n",
      "lstm_7 (LSTM)                (None, 64)                82176     \n",
      "_________________________________________________________________\n",
      "dropout_7 (Dropout)          (None, 64)                0         \n",
      "_________________________________________________________________\n",
      "dense_6 (Dense)              (None, 45)                2925      \n",
      "=================================================================\n",
      "Total params: 349,293\n",
      "Trainable params: 349,293\n",
      "Non-trainable params: 0\n",
      "_________________________________________________________________\n",
      "None\n"
     ]
    }
   ],
   "source": [
    "model2 = Sequential()\n",
    "model2.add(LSTM(256, input_shape=(X_train.shape[1], X_train.shape[2]), return_sequences=True))\n",
    "model2.add(Dropout(0.2))\n",
    "model2.add(LSTM(64))\n",
    "model2.add(Dropout(0.2))\n",
    "model2.add(Dense(Y_train.shape[1], activation='softmax'))\n",
    "model2.compile(loss='categorical_crossentropy', optimizer='adam')\n",
    "print model2.summary()"
   ]
  },
  {
   "cell_type": "code",
   "execution_count": 84,
   "metadata": {
    "collapsed": true
   },
   "outputs": [],
   "source": [
    "# define the checkpoint\n",
    "filepath=\"weights-improvement-{epoch:02d}-{loss:.4f}.hdf5\"\n",
    "checkpoint = ModelCheckpoint(filepath, monitor='loss', verbose=1, save_best_only=True, mode='min')\n",
    "callbacks_list = [checkpoint]"
   ]
  },
  {
   "cell_type": "code",
   "execution_count": 85,
   "metadata": {},
   "outputs": [
    {
     "name": "stdout",
     "output_type": "stream",
     "text": [
      "Epoch 1/20\n",
      "144192/144248 [============================>.] - ETA: 0s - loss: 2.9344 - acc: 0.1999Epoch 00000: loss improved from inf to 2.93430, saving model to weights-improvement-00-2.9343.hdf5\n",
      "144248/144248 [==============================] - 342s - loss: 2.9343 - acc: 0.2000   \n",
      "Epoch 2/20\n",
      "144192/144248 [============================>.] - ETA: 0s - loss: 2.7036 - acc: 0.2524Epoch 00001: loss improved from 2.93430 to 2.70349, saving model to weights-improvement-01-2.7035.hdf5\n",
      "144248/144248 [==============================] - 342s - loss: 2.7035 - acc: 0.2525   \n",
      "Epoch 3/20\n",
      "144192/144248 [============================>.] - ETA: 0s - loss: 2.5986 - acc: 0.2720Epoch 00002: loss improved from 2.70349 to 2.59856, saving model to weights-improvement-02-2.5986.hdf5\n",
      "144248/144248 [==============================] - 342s - loss: 2.5986 - acc: 0.2720   \n",
      "Epoch 4/20\n",
      "144192/144248 [============================>.] - ETA: 0s - loss: 2.5178 - acc: 0.2918Epoch 00003: loss improved from 2.59856 to 2.51775, saving model to weights-improvement-03-2.5177.hdf5\n",
      "144248/144248 [==============================] - 342s - loss: 2.5177 - acc: 0.2918   \n",
      "Epoch 5/20\n",
      "144192/144248 [============================>.] - ETA: 0s - loss: 2.4407 - acc: 0.3109Epoch 00004: loss improved from 2.51775 to 2.44058, saving model to weights-improvement-04-2.4406.hdf5\n",
      "144248/144248 [==============================] - 342s - loss: 2.4406 - acc: 0.3110   \n",
      "Epoch 6/20\n",
      "144192/144248 [============================>.] - ETA: 0s - loss: 2.3702 - acc: 0.3279Epoch 00005: loss improved from 2.44058 to 2.37013, saving model to weights-improvement-05-2.3701.hdf5\n",
      "144248/144248 [==============================] - 342s - loss: 2.3701 - acc: 0.3279   \n",
      "Epoch 7/20\n",
      "144192/144248 [============================>.] - ETA: 0s - loss: 2.3064 - acc: 0.3429Epoch 00006: loss improved from 2.37013 to 2.30646, saving model to weights-improvement-06-2.3065.hdf5\n",
      "144248/144248 [==============================] - 342s - loss: 2.3065 - acc: 0.3429   \n",
      "Epoch 8/20\n",
      "144192/144248 [============================>.] - ETA: 0s - loss: 2.2489 - acc: 0.3583Epoch 00007: loss improved from 2.30646 to 2.24888, saving model to weights-improvement-07-2.2489.hdf5\n",
      "144248/144248 [==============================] - 342s - loss: 2.2489 - acc: 0.3584   \n",
      "Epoch 9/20\n",
      "144192/144248 [============================>.] - ETA: 0s - loss: 2.1942 - acc: 0.3707Epoch 00008: loss improved from 2.24888 to 2.19432, saving model to weights-improvement-08-2.1943.hdf5\n",
      "144248/144248 [==============================] - 342s - loss: 2.1943 - acc: 0.3706   \n",
      "Epoch 10/20\n",
      "144192/144248 [============================>.] - ETA: 0s - loss: 2.1473 - acc: 0.3831Epoch 00009: loss improved from 2.19432 to 2.14724, saving model to weights-improvement-09-2.1472.hdf5\n",
      "144248/144248 [==============================] - 342s - loss: 2.1472 - acc: 0.3831   \n",
      "Epoch 11/20\n",
      "144192/144248 [============================>.] - ETA: 0s - loss: 2.1022 - acc: 0.3934Epoch 00010: loss improved from 2.14724 to 2.10209, saving model to weights-improvement-10-2.1021.hdf5\n",
      "144248/144248 [==============================] - 342s - loss: 2.1021 - acc: 0.3934   \n",
      "Epoch 12/20\n",
      "144192/144248 [============================>.] - ETA: 0s - loss: 2.0570 - acc: 0.4044Epoch 00011: loss improved from 2.10209 to 2.05692, saving model to weights-improvement-11-2.0569.hdf5\n",
      "144248/144248 [==============================] - 342s - loss: 2.0569 - acc: 0.4045   \n",
      "Epoch 13/20\n",
      "144192/144248 [============================>.] - ETA: 0s - loss: 2.0171 - acc: 0.4151Epoch 00012: loss improved from 2.05692 to 2.01718, saving model to weights-improvement-12-2.0172.hdf5\n",
      "144248/144248 [==============================] - 342s - loss: 2.0172 - acc: 0.4151   \n",
      "Epoch 14/20\n",
      "144192/144248 [============================>.] - ETA: 0s - loss: 1.9786 - acc: 0.4239Epoch 00013: loss improved from 2.01718 to 1.97870, saving model to weights-improvement-13-1.9787.hdf5\n",
      "144248/144248 [==============================] - 342s - loss: 1.9787 - acc: 0.4239   \n",
      "Epoch 15/20\n",
      "144192/144248 [============================>.] - ETA: 0s - loss: 1.9453 - acc: 0.4318Epoch 00014: loss improved from 1.97870 to 1.94527, saving model to weights-improvement-14-1.9453.hdf5\n",
      "144248/144248 [==============================] - 342s - loss: 1.9453 - acc: 0.4318   \n",
      "Epoch 16/20\n",
      "144192/144248 [============================>.] - ETA: 0s - loss: 1.9126 - acc: 0.4406Epoch 00015: loss improved from 1.94527 to 1.91266, saving model to weights-improvement-15-1.9127.hdf5\n",
      "144248/144248 [==============================] - 342s - loss: 1.9127 - acc: 0.4406   \n",
      "Epoch 17/20\n",
      "144192/144248 [============================>.] - ETA: 0s - loss: 1.8865 - acc: 0.4470Epoch 00016: loss improved from 1.91266 to 1.88640, saving model to weights-improvement-16-1.8864.hdf5\n",
      "144248/144248 [==============================] - 342s - loss: 1.8864 - acc: 0.4470   \n",
      "Epoch 18/20\n",
      "144192/144248 [============================>.] - ETA: 0s - loss: 1.8580 - acc: 0.4545Epoch 00017: loss improved from 1.88640 to 1.85808, saving model to weights-improvement-17-1.8581.hdf5\n",
      "144248/144248 [==============================] - 342s - loss: 1.8581 - acc: 0.4545   \n",
      "Epoch 19/20\n",
      "144192/144248 [============================>.] - ETA: 0s - loss: 1.8372 - acc: 0.4602Epoch 00018: loss improved from 1.85808 to 1.83720, saving model to weights-improvement-18-1.8372.hdf5\n",
      "144248/144248 [==============================] - 342s - loss: 1.8372 - acc: 0.4602   \n",
      "Epoch 20/20\n",
      "144192/144248 [============================>.] - ETA: 0s - loss: 1.8069 - acc: 0.4681Epoch 00019: loss improved from 1.83720 to 1.80697, saving model to weights-improvement-19-1.8070.hdf5\n",
      "144248/144248 [==============================] - 342s - loss: 1.8070 - acc: 0.4681   \n"
     ]
    }
   ],
   "source": [
    "model_info = model.fit(X_train, Y_train, epochs=20, batch_size=64, callbacks=callbacks_list)"
   ]
  },
  {
   "cell_type": "code",
   "execution_count": 93,
   "metadata": {},
   "outputs": [
    {
     "name": "stdout",
     "output_type": "stream",
     "text": [
      "Printing the model graph.....\n"
     ]
    }
   ],
   "source": [
    "import matplotlib.pyplot as plt\n",
    "print('Printing the model graph.....')\n",
    "def plot_model_history(model_history):\n",
    "    fig, axs = plt.subplots(1,2,figsize=(15,5))\n",
    "    \n",
    "    # summarize history for accuracy\n",
    "    axs[0].plot(range(1,len(model_history.history['acc'])+1),model_history.history['acc'])\n",
    "    axs[0].plot(range(1,len(model_history.history['loss'])+1),model_history.history['loss'])\n",
    "    axs[0].set_title('Accuracy')\n",
    "    axs[0].set_ylabel('Accuracy')\n",
    "    axs[0].set_xlabel('Epoch')\n",
    "    axs[0].set_xticks(np.arange(1,len(model_history.history['acc'])+1),len(model_history.history['acc'])/10)\n",
    "    axs[0].legend(['train', 'val'], loc='best')\n",
    "    plt.savefig('accuracy1.png')\n",
    "        \n",
    "    # summarize history for loss\n",
    "    axs[1].plot(range(1,len(model_history.history['loss'])+1),model_history.history['loss'])\n",
    "    axs[1].plot(range(1,len(model_history.history['loss'])+1),model_history.history['loss'])\n",
    "    axs[1].set_title('Loss')\n",
    "    axs[1].set_ylabel('Loss')\n",
    "    axs[1].set_xlabel('Epoch')\n",
    "    axs[1].set_xticks(np.arange(1,len(model_history.history['loss'])+1),len(model_history.history['loss'])/10)\n",
    "    axs[1].legend(['train', 'val'], loc='best')\n",
    "    plt.savefig('loss1.png')     \n",
    "    plt.show()"
   ]
  },
  {
   "cell_type": "code",
   "execution_count": 94,
   "metadata": {},
   "outputs": [
    {
     "data": {
      "image/png": "[encoded data removed]",
      "text/plain": [
       "<matplotlib.figure.Figure at 0x7f4c2b159c50>"
      ]
     },
     "metadata": {},
     "output_type": "display_data"
    },
    {
     "data": {
      "image/png": "[encoded data removed]",
      "text/plain": [
       "<matplotlib.figure.Figure at 0x7f4c10b600d0>"
      ]
     },
     "metadata": {},
     "output_type": "display_data"
    }
   ],
   "source": [
    "plot_model_history(model_info)"
   ]
  },
  {
   "cell_type": "code",
   "execution_count": 96,
   "metadata": {},
   "outputs": [],
   "source": [
    "# load the network weights\n",
    "filename = \"weights-improvement-19-1.8070.hdf5\"\n",
    "model.load_weights(filename)\n",
    "model.compile(loss='categorical_crossentropy', optimizer='adam', metrics=['accuracy'])"
   ]
  },
  {
   "cell_type": "code",
   "execution_count": 98,
   "metadata": {},
   "outputs": [
    {
     "name": "stdout",
     "output_type": "stream",
     "text": [
      "Seed:\n",
      "\" ll very slowly, for she had\n",
      "plenty of time as she went down to look about her and to wonder what was \"\n",
      "\n",
      "Generated Sequence:\n",
      "\n",
      " a little saati, and the white rabbit were tiitg the was soin in aade a tirt eerd  at the was sore firter to the thees shat see was soin in a torele to the theee an she was aoiie the sabbit hare no en\n",
      "Done.\n"
     ]
    }
   ],
   "source": [
    "start = np.random.randint(0, len(X_train)-1)\n",
    "pattern = dataX[start]\n",
    "print \"Seed:\"\n",
    "print \"\\\"\", ''.join([int_to_char[value] for value in pattern]), \"\\\"\"\n",
    "print \"\\nGenerated Sequence:\\n\"\n",
    "for i in xrange(200):\n",
    "    x = np.reshape(pattern, (1, len(pattern), 1))\n",
    "    x = x/float(n_vocab)\n",
    "    prediction = model.predict(x)\n",
    "    index = np.argmax(prediction)\n",
    "    result = int_to_char[index]\n",
    "    sys.stdout.write(result)\n",
    "    pattern.append(index)\n",
    "    pattern = pattern[1:len(pattern)]\n",
    "print \"\\nDone.\""
   ]
  },
  {
   "cell_type": "code",
   "execution_count": null,
   "metadata": {
    "collapsed": true
   },
   "outputs": [],
   "source": []
  }
 ],
 "metadata": {
  "kernelspec": {
   "display_name": "Python 2",
   "language": "python",
   "name": "python2"
  },
  "language_info": {
   "codemirror_mode": {
    "name": "ipython",
    "version": 2
   },
   "file_extension": ".py",
   "mimetype": "text/x-python",
   "name": "python",
   "nbconvert_exporter": "python",
   "pygments_lexer": "ipython2",
   "version": "2.7.14"
  }
 },
 "nbformat": 4,
 "nbformat_minor": 2
}
